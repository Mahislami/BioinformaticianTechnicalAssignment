{
 "cells": [
  {
   "cell_type": "markdown",
   "id": "aa940240",
   "metadata": {},
   "source": [
    "# Bioinformatician Technical Assignment\n",
    "\n",
    "In this notebook, a set of functions have been provided to interact with the main application.  Before using the utilities, make sure the application is running. \n"
   ]
  },
  {
   "cell_type": "markdown",
   "id": "d0093906",
   "metadata": {},
   "source": [
    "We start by importing the required packages."
   ]
  },
  {
   "cell_type": "code",
   "execution_count": 1,
   "id": "35801ab1",
   "metadata": {},
   "outputs": [],
   "source": [
    "import time\n",
    "import requests\n",
    "import matplotlib.pyplot as plt"
   ]
  },
  {
   "cell_type": "markdown",
   "id": "7f3c14a2",
   "metadata": {},
   "source": [
    "### 1. Uploading The Csv File\n",
    "This function sends the input file to the relevant endpoint using a POST request to be stored in the DB."
   ]
  },
  {
   "cell_type": "code",
   "execution_count": 2,
   "id": "4956e9fd",
   "metadata": {},
   "outputs": [],
   "source": [
    "def uploadCSVFile(file):\n",
    "    session = requests.Session()\n",
    "    files = {'file': open(file,'rb')}\n",
    "    response = session.post('http://127.0.0.1:8000/upload/',files=files)\n",
    "    return response.json()"
   ]
  },
  {
   "cell_type": "markdown",
   "id": "38ddb923",
   "metadata": {},
   "source": [
    "Run the cell below to upload the file. This will take a few seconds."
   ]
  },
  {
   "cell_type": "code",
   "execution_count": 27,
   "id": "3b3a4514",
   "metadata": {},
   "outputs": [],
   "source": [
    "uploadCSVFile('proteins_time_course.csv')"
   ]
  },
  {
   "cell_type": "markdown",
   "id": "bf19ce86",
   "metadata": {},
   "source": [
    "### 2. Querying The Database\n",
    "\n",
    "From now on, we can start the interactions between the notebook and the the application to retrieve data from the DB."
   ]
  },
  {
   "cell_type": "markdown",
   "id": "83f0f85e",
   "metadata": {},
   "source": [
    "#### Retrieve Protein Information Excluding Numeric Values\n",
    "\n",
    "This function takes a Protein ID as input, sends the ID to the relevant endpoint using a GET request. It then returns the protein information excluding the timepoint numeric values."
   ]
  },
  {
   "cell_type": "code",
   "execution_count": 5,
   "id": "795c0c1e",
   "metadata": {},
   "outputs": [],
   "source": [
    "def getProteinInfo(proteinID):\n",
    "    session = requests.Session()\n",
    "    params = {'proteinID':proteinID}\n",
    "    r = session.get('http://127.0.0.1:8000/info',params=params)\n",
    "    return (r.json()['body'])"
   ]
  },
  {
   "cell_type": "markdown",
   "id": "523e2703",
   "metadata": {},
   "source": [
    "Run the cell below to send the request. you may use any protein ID e.g. 26, 82, 305"
   ]
  },
  {
   "cell_type": "code",
   "execution_count": 26,
   "id": "fc81b3d6",
   "metadata": {
    "scrolled": true
   },
   "outputs": [],
   "source": [
    "getProteinInfo(proteinID=26)"
   ]
  },
  {
   "cell_type": "markdown",
   "id": "f3e787b0",
   "metadata": {},
   "source": [
    "#### Retrieve Protein Information, Only The Numeric Values\n",
    "\n",
    "This function takes a Protein ID as input, sends the ID to the relevant endpoint using a GET request. It then returns only the numeric timepoint values of the protein."
   ]
  },
  {
   "cell_type": "code",
   "execution_count": 7,
   "id": "9d053807",
   "metadata": {},
   "outputs": [],
   "source": [
    "def getProteinAllTimePointAbundance(proteinID):\n",
    "    session = requests.Session()\n",
    "    params = {'proteinID':proteinID}\n",
    "    r = session.get('http://127.0.0.1:8000/time-point',params=params)\n",
    "    return r.json()['body']"
   ]
  },
  {
   "cell_type": "markdown",
   "id": "746a71b7",
   "metadata": {},
   "source": [
    "Run the cell below to send the request. you may use any protein ID e.g. 26, 82, 305"
   ]
  },
  {
   "cell_type": "code",
   "execution_count": 25,
   "id": "1e5c7324",
   "metadata": {},
   "outputs": [],
   "source": [
    "getProteinAllTimePointAbundance(proteinID=133)"
   ]
  },
  {
   "cell_type": "markdown",
   "id": "28589a70",
   "metadata": {},
   "source": [
    "This function plots the results of the query."
   ]
  },
  {
   "cell_type": "code",
   "execution_count": 9,
   "id": "c4c2401d",
   "metadata": {},
   "outputs": [],
   "source": [
    "def plotTimePointsOf(proteinID):\n",
    "    \n",
    "    AllTimePointAbundance = getProteinAllTimePointAbundance(proteinID)\n",
    "    ProteinID = list(AllTimePointAbundance.values())[1]\n",
    "    TIME_POINTS = [0, 0.5, 1, 2, 3, 4, 5, 6, 9, 12, 24]\n",
    "\n",
    "    fig,ax = plt.subplots(figsize=(24, 5))\n",
    "    ax.scatter(TIME_POINTS, list(AllTimePointAbundance.values())[1:12])\n",
    "    ax.plot(TIME_POINTS, list(AllTimePointAbundance.values())[1:12])\n",
    "    ax.set_xticks(TIME_POINTS)\n",
    "    plt.grid()\n",
    "    plt.xlabel('Time Points')\n",
    "    plt.ylabel('Protein Abundance')\n",
    "    plt.title('Protein Abundance Measurement on Timepoints for Protein '+ str(ProteinID))\n",
    "    plt.show()\n",
    "    fig,ax = plt.subplots(figsize=(24, 5))\n",
    "    ax.bar(TIME_POINTS, list(AllTimePointAbundance.values())[1:12],width=0.2)\n",
    "    ax.set_xticks(TIME_POINTS)\n",
    "    plt.xlabel('Time Points')\n",
    "    plt.ylabel('Protein Abundance')\n",
    "    plt.title('Protein Abundance Measurement on Timepoints for Protein '+ str(ProteinID))\n",
    "    plt.grid()\n",
    "    plt.show()"
   ]
  },
  {
   "cell_type": "markdown",
   "id": "f24a3b38",
   "metadata": {},
   "source": [
    "Run the cell below to plot the results of the query."
   ]
  },
  {
   "cell_type": "code",
   "execution_count": 24,
   "id": "37ceded6",
   "metadata": {},
   "outputs": [],
   "source": [
    "plotTimePointsOf(proteinID=26)"
   ]
  },
  {
   "cell_type": "markdown",
   "id": "8c88d30a",
   "metadata": {},
   "source": [
    "#### Retrieve Protein Abundance On a Specific Timepoint\n",
    "\n",
    "This function takes a Protein ID and the required Time Point as inputs, sends them to the relevant endpoint using a GET request. It then returns only the abundance value measured on the given timepoint."
   ]
  },
  {
   "cell_type": "code",
   "execution_count": 11,
   "id": "d3cf4212",
   "metadata": {},
   "outputs": [],
   "source": [
    "def getProteinSingleTimePointAbundance(proteinID, timePoint):\n",
    "    session = requests.Session()\n",
    "    params = {'proteinID':proteinID,'timePoint':timePoint}\n",
    "    r = session.get('http://127.0.0.1:8000/single-field-time-point',params=params)\n",
    "    return (r.json()['body'])"
   ]
  },
  {
   "cell_type": "markdown",
   "id": "64d9bc08",
   "metadata": {},
   "source": [
    "Run the cell below to execute the function above. Timepoints = (0, 0.5, 1, 2, 3, 4, 5, 6, 9, 12, 24)"
   ]
  },
  {
   "cell_type": "code",
   "execution_count": 23,
   "id": "841bade9",
   "metadata": {},
   "outputs": [],
   "source": [
    "getProteinSingleTimePointAbundance(proteinID=26, timePoint=9)"
   ]
  },
  {
   "cell_type": "markdown",
   "id": "c0ad70c0",
   "metadata": {},
   "source": [
    "#### Retrieve Proteins With Threshold\n",
    "\n",
    "This function takes a time point and a threshold. It then returns the proteins whose abundances are above the given threshold in the specified the timepoint."
   ]
  },
  {
   "cell_type": "code",
   "execution_count": 13,
   "id": "a9fc8d4d",
   "metadata": {},
   "outputs": [],
   "source": [
    "def getProteinAllTimePointAbundance(timePoint, thresh):\n",
    "    analysis = {}\n",
    "    session = requests.Session()\n",
    "    params = {'timePoint':timePoint, 'thresh':thresh}\n",
    "    start = time.time()\n",
    "    r = session.get('http://127.0.0.1:8000/list',params=params)\n",
    "    end = time.time()\n",
    "    elapsed = end-start\n",
    "    analysis['Elapsed Time'] = elapsed*1000\n",
    "    analysis['Total'] = len(list(r.json()['body']))\n",
    "    print('Elapsed Time: ',analysis['Elapsed Time'])\n",
    "    print('Total Item: ',analysis['Total'])\n",
    "    return r.json()['body']"
   ]
  },
  {
   "cell_type": "markdown",
   "id": "f1b95fc3",
   "metadata": {},
   "source": [
    "Run the cell below to execute the function above. Time Points = (0, 0.5, 1, 2, 3, 4, 5, 6, 9, 12, 24)"
   ]
  },
  {
   "cell_type": "code",
   "execution_count": 22,
   "id": "93c98c73",
   "metadata": {},
   "outputs": [],
   "source": [
    "getProteinAllTimePointAbundance(9, 30000000000)"
   ]
  },
  {
   "cell_type": "code",
   "execution_count": 15,
   "id": "4b6e0ca7",
   "metadata": {},
   "outputs": [],
   "source": [
    "def plotTimePointsWithThresh(timePoint, thresh):\n",
    "    \n",
    "    AllTimePointAbundance = getProteinAllTimePointAbundance(timePoint, thresh)\n",
    "\n",
    "    TIME_POINTS = [0, 0.5, 1, 2, 3, 4, 5, 6, 9, 12, 24]\n",
    "    \n",
    "    plt.figure(figsize=(24, 5))\n",
    "    \n",
    "    for item in AllTimePointAbundance:\n",
    "    \n",
    "        plt.scatter(TIME_POINTS, list(item.values())[4:15])\n",
    "        plt.plot(TIME_POINTS, list(item.values())[4:15])\n",
    "        plt.xticks(TIME_POINTS)\n",
    "        plt.grid()\n",
    "        plt.xlabel('Time Points')\n",
    "        plt.ylabel('Protein Abundance')\n",
    "        plt.title('Protein Abundance Measurement on Timepoint' + str(timePoint) + 'for' + str(len(AllTimePointAbundance)) +'Proteins')\n",
    "                  "
   ]
  },
  {
   "cell_type": "code",
   "execution_count": 21,
   "id": "a449039a",
   "metadata": {},
   "outputs": [],
   "source": [
    "plotTimePointsWithThresh(6, 10000000000)"
   ]
  },
  {
   "cell_type": "markdown",
   "id": "a2c8b7d3",
   "metadata": {},
   "source": [
    "#### Retrieve Proteins With Specific Celluar Process\n",
    "\n",
    "This function takes a Celluar Proces (e.g. 'cell adhesion') returns the proteins which contain in this process in their Celluar Processes."
   ]
  },
  {
   "cell_type": "code",
   "execution_count": 16,
   "id": "e9c1140c",
   "metadata": {},
   "outputs": [],
   "source": [
    "def getProteinwithCellularProcess(cellularProcess):\n",
    "    \n",
    "    session = requests.Session()\n",
    "    params = {'process':str(cellularProcess)}\n",
    "    r = session.get('http://127.0.0.1:8000/process',params=params)\n",
    "    return (r.json()['body'])"
   ]
  },
  {
   "cell_type": "markdown",
   "id": "b204e557",
   "metadata": {},
   "source": [
    "Run the cell below to execute the function above."
   ]
  },
  {
   "cell_type": "code",
   "execution_count": 19,
   "id": "7c7bc4eb",
   "metadata": {
    "scrolled": false
   },
   "outputs": [],
   "source": [
    "getProteinwithCellularProcess(cellularProcess='cell adhesion')"
   ]
  }
 ],
 "metadata": {
  "kernelspec": {
   "display_name": "Python 3 (ipykernel)",
   "language": "python",
   "name": "python3"
  },
  "language_info": {
   "codemirror_mode": {
    "name": "ipython",
    "version": 3
   },
   "file_extension": ".py",
   "mimetype": "text/x-python",
   "name": "python",
   "nbconvert_exporter": "python",
   "pygments_lexer": "ipython3",
   "version": "3.9.10"
  },
  "vscode": {
   "interpreter": {
    "hash": "aee8b7b246df8f9039afb4144a1f6fd8d2ca17a180786b69acc140d282b71a49"
   }
  }
 },
 "nbformat": 4,
 "nbformat_minor": 5
}
